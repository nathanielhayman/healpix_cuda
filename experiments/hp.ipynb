{
 "cells": [
  {
   "cell_type": "code",
   "execution_count": 38,
   "metadata": {},
   "outputs": [
    {
     "name": "stdout",
     "output_type": "stream",
     "text": [
      "Defaulting to user installation because normal site-packages is not writeable\n",
      "Requirement already satisfied: healpy in /Users/nathanielhayman/Library/Python/3.9/lib/python/site-packages (1.17.3)\n",
      "Requirement already satisfied: numpy>=1.19 in /Users/nathanielhayman/Library/Python/3.9/lib/python/site-packages (from healpy) (1.26.4)\n",
      "Requirement already satisfied: astropy in /Users/nathanielhayman/Library/Python/3.9/lib/python/site-packages (from healpy) (6.0.1)\n",
      "Requirement already satisfied: pyerfa>=2.0.1.1 in /Users/nathanielhayman/Library/Python/3.9/lib/python/site-packages (from astropy->healpy) (2.0.1.5)\n",
      "Requirement already satisfied: astropy-iers-data>=0.2024.2.26.0.28.55 in /Users/nathanielhayman/Library/Python/3.9/lib/python/site-packages (from astropy->healpy) (0.2025.3.17.0.34.53)\n",
      "Requirement already satisfied: PyYAML>=3.13 in /Users/nathanielhayman/Library/Python/3.9/lib/python/site-packages (from astropy->healpy) (6.0.2)\n",
      "Requirement already satisfied: packaging>=19.0 in /Users/nathanielhayman/Library/Python/3.9/lib/python/site-packages (from astropy->healpy) (24.2)\n",
      "\n",
      "\u001b[1m[\u001b[0m\u001b[34;49mnotice\u001b[0m\u001b[1;39;49m]\u001b[0m\u001b[39;49m A new release of pip is available: \u001b[0m\u001b[31;49m25.0\u001b[0m\u001b[39;49m -> \u001b[0m\u001b[32;49m25.1\u001b[0m\n",
      "\u001b[1m[\u001b[0m\u001b[34;49mnotice\u001b[0m\u001b[1;39;49m]\u001b[0m\u001b[39;49m To update, run: \u001b[0m\u001b[32;49m/Applications/Xcode.app/Contents/Developer/usr/bin/python3 -m pip install --upgrade pip\u001b[0m\n",
      "Defaulting to user installation because normal site-packages is not writeable\n",
      "Requirement already satisfied: opencv-python in /Users/nathanielhayman/Library/Python/3.9/lib/python/site-packages (4.11.0.86)\n",
      "Requirement already satisfied: numpy>=1.21.0 in /Users/nathanielhayman/Library/Python/3.9/lib/python/site-packages (from opencv-python) (1.26.4)\n",
      "\n",
      "\u001b[1m[\u001b[0m\u001b[34;49mnotice\u001b[0m\u001b[1;39;49m]\u001b[0m\u001b[39;49m A new release of pip is available: \u001b[0m\u001b[31;49m25.0\u001b[0m\u001b[39;49m -> \u001b[0m\u001b[32;49m25.1\u001b[0m\n",
      "\u001b[1m[\u001b[0m\u001b[34;49mnotice\u001b[0m\u001b[1;39;49m]\u001b[0m\u001b[39;49m To update, run: \u001b[0m\u001b[32;49m/Applications/Xcode.app/Contents/Developer/usr/bin/python3 -m pip install --upgrade pip\u001b[0m\n"
     ]
    }
   ],
   "source": [
    "!pip install healpy\n",
    "!pip install opencv-python"
   ]
  },
  {
   "cell_type": "code",
   "execution_count": 39,
   "metadata": {},
   "outputs": [],
   "source": [
    "import matplotlib.pyplot as plt\n",
    "\n",
    "%matplotlib inline\n",
    "import numpy as np\n",
    "import healpy as hp\n",
    "import cv2\n",
    "import math"
   ]
  },
  {
   "cell_type": "code",
   "execution_count": 40,
   "metadata": {},
   "outputs": [],
   "source": [
    "NSIDE = 32\n",
    "NPIX = hp.nside2npix(NSIDE)\n",
    "\n",
    "FOV = [math.pi/4, math.pi/4 * 0.56206896551]\n",
    "OFFSET = [math.pi/2, 0]"
   ]
  },
  {
   "cell_type": "code",
   "execution_count": 41,
   "metadata": {},
   "outputs": [],
   "source": [
    "# Map pixels to RA and DEC values (theta and phi)\n",
    "def register_pixels(img, off):\n",
    "    height, width = img.shape\n",
    "\n",
    "    print(f\"Image shape: {img.shape}\")\n",
    "\n",
    "    out = []\n",
    "\n",
    "    for y in range(height):\n",
    "        for x in range(width):\n",
    "            theta = (y - height//2) * FOV[0] / height\n",
    "            phi = (x - width//2) * FOV[1] / width\n",
    "\n",
    "            out.append((theta + off[0], phi + off[1], img[y, x]))\n",
    "\n",
    "    return out\n",
    "\n",
    "# Determine all overlapping spherical pixels from a pixel's center angle\n",
    "def find_overlapping_pixels(angle, width, height):\n",
    "    pixel_size_x = FOV[1] / width\n",
    "    pixel_size_y = FOV[0] / height\n",
    "\n",
    "    vecs = np.array([\n",
    "        hp.ang2vec((angle[0] - pixel_size_y/2) % math.pi, (angle[1] - pixel_size_x/2) % 2*math.pi),\n",
    "        hp.ang2vec((angle[0] + pixel_size_y/2) % math.pi, (angle[1] - pixel_size_x/2) % 2*math.pi),\n",
    "        hp.ang2vec((angle[0] + pixel_size_y/2) % math.pi, (angle[1] + pixel_size_x/2) % 2*math.pi),\n",
    "        hp.ang2vec((angle[0] - pixel_size_y/2) % math.pi, (angle[1] + pixel_size_x/2) % 2*math.pi),\n",
    "    ])\n",
    "\n",
    "    return hp.query_polygon(NSIDE, vecs)\n",
    "\n",
    "def find_overlapping_pixels2(angle, width, height):\n",
    "    pixel_size_x = FOV[1] / width\n",
    "    pixel_size_y = FOV[0] / height\n",
    "\n",
    "    vecs = np.array([\n",
    "        hp.ang2pix(NSIDE, (angle[0] - pixel_size_y/2) % math.pi, (angle[1] - pixel_size_x/2) % 2*math.pi),\n",
    "        hp.ang2pix(NSIDE, (angle[0] + pixel_size_y/2) % math.pi, (angle[1] - pixel_size_x/2) % 2*math.pi),\n",
    "        hp.ang2pix(NSIDE, (angle[0] + pixel_size_y/2) % math.pi, (angle[1] + pixel_size_x/2) % 2*math.pi),\n",
    "        hp.ang2pix(NSIDE, (angle[0] - pixel_size_y/2) % math.pi, (angle[1] + pixel_size_x/2) % 2*math.pi),\n",
    "    ])\n",
    "\n",
    "    print(f\"pixel 0 row: {hp.pix2xyf(NSIDE, vecs[0])}\")\n",
    "\n",
    "    # return hp.query_polygon(NSIDE, vecs)\n",
    "\n",
    " \n",
    "# Perform bilinear interpolation on spherical pixels referencing the original image\n",
    "def bilinear_interpolation(pix, img, off):\n",
    "    height, width = img.shape\n",
    "\n",
    "    center = hp.pix2ang(NSIDE, pix)\n",
    "\n",
    "    # m = np.zeros(NPIX)\n",
    "\n",
    "    # m[pix] = 1\n",
    "\n",
    "    # hp.mollview(m, title=\"Mollview image RING\")\n",
    "    # hp.graticule()\n",
    "\n",
    "    theta = center[0] - off[0] + FOV[0]/2\n",
    "    phi = center[1] - off[1] + FOV[1]/2\n",
    "\n",
    "    print(f\"Updated theta, phi: {(theta, phi)}\")\n",
    "\n",
    "    y = (theta * height / FOV[0]) + height // 2\n",
    "    x = (phi * width / FOV[1]) + width // 2\n",
    "\n",
    "    print(f\"x: {x}, y: {y}\")\n",
    "\n",
    "    x_ceil = min(width - 1, math.ceil(x))\n",
    "    x_floor = max(math.floor(x), 0)\n",
    "    y_ceil = min(width - 1, math.ceil(y))\n",
    "    y_floor = max(math.floor(y), 0)\n",
    "\n",
    "    v1 = img[y_floor, x_floor]\n",
    "\n",
    "    v2 = img[y_floor, x_ceil]\n",
    "    v3 = img[y_ceil, x_ceil]\n",
    "    v4 = img[y_ceil, x_floor]\n",
    "\n",
    "    if x_ceil == x_floor and y_ceil == y_floor:\n",
    "        return img[y_floor, x_floor]\n",
    "    if x_ceil == x_floor:\n",
    "        return v1 * (y_ceil - y) + v3 * (y - y_floor)\n",
    "    if y_ceil == y_floor:\n",
    "        return v1 * (x_ceil - x) + v2 * (x - x_floor)\n",
    "    else:\n",
    "        q1 = v1 * (x_ceil - x) + v2 * (x - x_floor)\n",
    "        q2 = v3 * (x_ceil - x) + v4 * (x - x_floor)\n",
    "        return q1 * (y_ceil - y) + q2 * (y - y_floor)\n",
    "\n",
    "def plot_sphere(pts):\n",
    "    fig = plt.figure(figsize=(10, 10))\n",
    "    ax = fig.add_subplot(111, projection=\"3d\")\n",
    "\n",
    "    u = np.linspace(0, 2 * np.pi, 100)\n",
    "    v = np.linspace(0, np.pi, 100)\n",
    "\n",
    "    x = np.outer(np.cos(u), np.sin(v))\n",
    "    y = np.outer(np.sin(u), np.sin(v))\n",
    "    z = np.outer(np.ones(np.size(u)), np.cos(v))\n",
    "\n",
    "    ax.plot_surface(x, y, z, color='lightgray', alpha=0.3)\n",
    "\n",
    "    ax.view_init(elev=180, azim=0)\n",
    "\n",
    "    plt.quiver(np.zeros(9), np.zeros(9), np.zeros(9), pts[:,0], pts[:,1], pts[:,2], length=1, normalize=True, color='r')\n",
    "\n",
    "    plt.show()"
   ]
  },
  {
   "cell_type": "code",
   "execution_count": 42,
   "metadata": {},
   "outputs": [
    {
     "name": "stdout",
     "output_type": "stream",
     "text": [
      "(3, 3)\n",
      "Image shape: (3, 3)\n",
      "pixel 0 row: (11, 7, 3)\n"
     ]
    },
    {
     "ename": "TypeError",
     "evalue": "'NoneType' object is not iterable",
     "output_type": "error",
     "traceback": [
      "\u001b[0;31m---------------------------------------------------------------------------\u001b[0m",
      "\u001b[0;31mTypeError\u001b[0m                                 Traceback (most recent call last)",
      "Cell \u001b[0;32mIn[42], line 37\u001b[0m\n\u001b[1;32m     32\u001b[0m \u001b[38;5;28;01mfor\u001b[39;00m angle \u001b[38;5;129;01min\u001b[39;00m angles:\n\u001b[1;32m     33\u001b[0m     \u001b[38;5;66;03m# m[hp.ang2pix(NSIDE, angle[0], angle[1])] = angle[2]\u001b[39;00m\n\u001b[1;32m     34\u001b[0m     \u001b[38;5;66;03m# pts.append(hp.ang2vec(angle[0], angle[1]))\u001b[39;00m\n\u001b[1;32m     35\u001b[0m     \u001b[38;5;66;03m# print(hp.ang2vec(angle[0], angle[1]))\u001b[39;00m\n\u001b[1;32m     36\u001b[0m     res \u001b[38;5;241m=\u001b[39m find_overlapping_pixels2(angle, width, height)\n\u001b[0;32m---> 37\u001b[0m     \u001b[43msp\u001b[49m\u001b[38;5;241;43m.\u001b[39;49m\u001b[43mupdate\u001b[49m\u001b[43m(\u001b[49m\u001b[43mres\u001b[49m\u001b[43m)\u001b[49m\n\u001b[1;32m     38\u001b[0m     m[res] \u001b[38;5;241m=\u001b[39m angle[\u001b[38;5;241m2\u001b[39m]\n\u001b[1;32m     39\u001b[0m     \u001b[38;5;66;03m# spi.update(sp.intersection(res))\u001b[39;00m\n\u001b[1;32m     40\u001b[0m     \u001b[38;5;66;03m# sp.update(res)\u001b[39;00m\n\u001b[1;32m     41\u001b[0m \n\u001b[1;32m     42\u001b[0m \u001b[38;5;66;03m# pts = np.array(pts)\u001b[39;00m\n\u001b[1;32m     43\u001b[0m \n\u001b[1;32m     44\u001b[0m \u001b[38;5;66;03m# print(pts)\u001b[39;00m\n",
      "\u001b[0;31mTypeError\u001b[0m: 'NoneType' object is not iterable"
     ]
    }
   ],
   "source": [
    "img = cv2.imread(\"image.jpg\")\n",
    "# img = cv2.resize(img, (0,0), fx=0.1, fy=0.1)\n",
    "img = cv2.cvtColor(img, cv2.COLOR_BGR2GRAY)\n",
    "\n",
    "# img = np.array([\n",
    "\n",
    "#     [1]\n",
    "# ])\n",
    "\n",
    "# img = np.array([\n",
    "#     [0, 0.5, 0],\n",
    "#     [0.5, 1, 0.5],\n",
    "#     [0, 0.5, 0]\n",
    "# ])\n",
    "\n",
    "# img = np.array([\n",
    "#     [0, 0, 1, 1, 1, 0, 0],\n",
    "#     [0, 0, 1, 0, 1, 0, 0],\n",
    "#     [0, 0, 0, 0, 0, 0, 0]\n",
    "# ])\n",
    "\n",
    "print(img.shape)\n",
    "\n",
    "height, width = img.shape\n",
    "\n",
    "m = np.zeros(NPIX)\n",
    "\n",
    "angles = register_pixels(img, OFFSET)\n",
    "\n",
    "sp = set()\n",
    "\n",
    "for angle in angles:\n",
    "    # m[hp.ang2pix(NSIDE, angle[0], angle[1])] = angle[2]\n",
    "    # pts.append(hp.ang2vec(angle[0], angle[1]))\n",
    "    # print(hp.ang2vec(angle[0], angle[1]))\n",
    "    res = find_overlapping_pixels2(angle, width, height)\n",
    "    sp.update(res)\n",
    "    m[res] = angle[2]\n",
    "    # spi.update(sp.intersection(res))\n",
    "    # sp.update(res)\n",
    "\n",
    "# pts = np.array(pts)\n",
    "\n",
    "# print(pts)\n",
    "\n",
    "hp.mollview(m, title=\"Mollview image RING\")\n",
    "# hp.mollzoom(m, title=\"Mollview image RING\", xsize=8000)\n",
    "hp.graticule()\n",
    "\n",
    "# plot_sphere(pts)\n",
    "\n",
    "# m2 = np.zeros(NPIX)\n",
    "\n",
    "# for p in sp:\n",
    "#     try:\n",
    "#         m2[p] = bilinear_interpolation(p, img, OFFSET)\n",
    "#         print(m2[p])\n",
    "#     except Exception as e:\n",
    "#         print(e)\n",
    "#         continue\n",
    "\n",
    "# for p in sp:\n",
    "#     try:\n",
    "#         m2[p] = bilinear_interpolation(p, img, OFFSET)\n",
    "#         # print(m2[p])\n",
    "#     except Exception as e:\n",
    "#         print(e)\n",
    "#         continue\n",
    "\n",
    "# hp.mollview(m2, title=\"Mollview image RING\")\n",
    "# hp.graticule()\n",
    "\n",
    "# m3 = np.zeros(NPIX)\n",
    "\n",
    "# for p in spi:\n",
    "#     try:\n",
    "#         m3[p] = bilinear_interpolation(p, img, FOV, OFFSET)\n",
    "#         # print(m2[p])\n",
    "#     except Exception as e:\n",
    "#         print(e)\n",
    "#         continue\n",
    "\n",
    "# hp.mollview(m3, title=\"Mollview image RING\")\n",
    "# hp.graticule()\n"
   ]
  },
  {
   "cell_type": "code",
   "execution_count": null,
   "metadata": {},
   "outputs": [],
   "source": []
  },
  {
   "cell_type": "code",
   "execution_count": null,
   "metadata": {},
   "outputs": [],
   "source": []
  },
  {
   "cell_type": "code",
   "execution_count": null,
   "metadata": {},
   "outputs": [],
   "source": []
  },
  {
   "cell_type": "code",
   "execution_count": 7,
   "metadata": {},
   "outputs": [
    {
     "data": {
      "image/png": "[encoded data removed]",
      "text/plain": [
       "<Figure size 850x540 with 2 Axes>"
      ]
     },
     "metadata": {},
     "output_type": "display_data"
    }
   ],
   "source": [
    "# mp = hp.read_map(\"../src/output.fits\")\n",
    "\n",
    "mp = np.zeros(NPIX)\n",
    "\n",
    "colored = hp.query_polygon(hp.get_nside(mp), np.array([\n",
    "    hp.ang2vec(1.178097, 5.890486),\n",
    "    hp.ang2vec(1.439897, 5.890486),\n",
    "    hp.ang2vec(1.439897, 6.152286),\n",
    "    hp.ang2vec(1.178097, 6.152286)\n",
    "]))\n",
    "\n",
    "colored = hp.query_polygon(hp.get_nside(mp), np.array([\n",
    "    hp.ang2vec(1.178097, 5.890486),\n",
    "    hp.ang2vec(1.439897, 5.890486),\n",
    "    hp.ang2vec(1.439897, 6.152286),\n",
    "    hp.ang2vec(1.178097, 6.152286)\n",
    "]))\n",
    "\n",
    "\n",
    "colored2 = hp.query_polygon(hp.get_nside(mp), np.array([\n",
    "    hp.ang2vec(1.178097, 6.152286),\n",
    "    hp.ang2vec(1.439897, 6.152286),\n",
    "    hp.ang2vec(1.439897, 0.130900),\n",
    "    hp.ang2vec(1.178097, 0.130900)\n",
    "]))\n",
    "\n",
    "colored3 = hp.query_polygon(hp.get_nside(mp), np.array([\n",
    "    hp.ang2vec(1.701696, 0.130900),\n",
    "    hp.ang2vec(1.963495, 0.130900),\n",
    "    hp.ang2vec(1.963495, 0.392699),\n",
    "    hp.ang2vec(1.701696, 0.392699)\n",
    "]))\n",
    "\n",
    "\n",
    "mp[colored] = 1\n",
    "\n",
    "# mp[colored2] = 1\n",
    "\n",
    "mp[colored3] = 1\n",
    "\n",
    "hp.mollview(mp, title=\"Mollview image RING\")"
   ]
  },
  {
   "cell_type": "code",
   "execution_count": null,
   "metadata": {},
   "outputs": [],
   "source": []
  },
  {
   "cell_type": "code",
   "execution_count": 46,
   "metadata": {},
   "outputs": [
    {
     "data": {
      "image/png": "[encoded data removed]",
      "text/plain": [
       "<Figure size 850x540 with 2 Axes>"
      ]
     },
     "metadata": {},
     "output_type": "display_data"
    }
   ],
   "source": [
    "mp = hp.read_map(\"../output.fits\")\n",
    "\n",
    "# mp = np.zeros(NPIX)\n",
    "\n",
    "# colored = hp.query_polygon(hp.get_nside(mp), np.array([\n",
    "#     hp.ang2vec(theta=1.178097, phi=5.890486),\n",
    "#     hp.ang2vec(theta=1.963495, phi=5.890486),\n",
    "#     hp.ang2vec(theta=1.963495, phi=0.392699),\n",
    "#     hp.ang2vec(theta=1.178097, phi=0.392699)\n",
    "# ]))\n",
    "\n",
    "# mp[colored] = 1\n",
    "\n",
    "hp.mollview(mp, title=\"Mollview image RING\")"
   ]
  },
  {
   "cell_type": "code",
   "execution_count": null,
   "metadata": {},
   "outputs": [],
   "source": []
  },
  {
   "cell_type": "code",
   "execution_count": 9,
   "metadata": {},
   "outputs": [
    {
     "name": "stderr",
     "output_type": "stream",
     "text": [
      "[ WARN:0@9.822] global loadsave.cpp:848 imwrite_ Unsupported depth image for selected encoder is fallbacked to CV_8U.\n"
     ]
    },
    {
     "data": {
      "text/plain": [
       "True"
      ]
     },
     "execution_count": 9,
     "metadata": {},
     "output_type": "execute_result"
    }
   ],
   "source": [
    "# img = np.array([\n",
    "#     [0, 127, 0],\n",
    "#     [127, 255, 127],\n",
    "#     [0, 127, 0]\n",
    "# ])\n",
    "\n",
    "img = np.asarray([\n",
    "    np.asarray([255 if (i % 2 == 0 and x % 2 == 0) else 0 for i in range(0, 10)])\n",
    "    for x in range(0, 10)\n",
    "])\n",
    "\n",
    "cv2.imwrite(\"../src/image.jpg\", img)"
   ]
  },
  {
   "cell_type": "code",
   "execution_count": 35,
   "metadata": {},
   "outputs": [
    {
     "name": "stderr",
     "output_type": "stream",
     "text": [
      "[ WARN:0@158528.422] global loadsave.cpp:848 imwrite_ Unsupported depth image for selected encoder is fallbacked to CV_8U.\n"
     ]
    },
    {
     "data": {
      "text/plain": [
       "True"
      ]
     },
     "execution_count": 35,
     "metadata": {},
     "output_type": "execute_result"
    }
   ],
   "source": [
    "img = np.asarray([\n",
    "    np.asarray([255/(i+1) for i in range(0, 10)])\n",
    "    for x in range(0, 10)\n",
    "])\n",
    "\n",
    "cv2.imwrite(\"../src/image.jpg\", img)"
   ]
  },
  {
   "cell_type": "code",
   "execution_count": 10,
   "metadata": {},
   "outputs": [
    {
     "data": {
      "image/png": "[encoded data removed]",
      "text/plain": [
       "<Figure size 640x480 with 1 Axes>"
      ]
     },
     "metadata": {},
     "output_type": "display_data"
    },
    {
     "data": {
      "text/plain": [
       "True"
      ]
     },
     "execution_count": 10,
     "metadata": {},
     "output_type": "execute_result"
    }
   ],
   "source": [
    "img = cv2.imread(\"../src/image.jpg\")\n",
    "\n",
    "image_rgb = cv2.cvtColor(img, cv2.COLOR_BGR2RGB)\n",
    "\n",
    "plt.imshow(image_rgb)\n",
    "plt.axis('off')  # Optional: remove axes and ticks\n",
    "plt.show()\n",
    "\n",
    "cv2.imwrite(\"image.jpg\", img)"
   ]
  },
  {
   "cell_type": "code",
   "execution_count": null,
   "metadata": {},
   "outputs": [],
   "source": []
  }
 ],
 "metadata": {
  "kernelspec": {
   "display_name": "Python 3",
   "language": "python",
   "name": "python3"
  },
  "language_info": {
   "codemirror_mode": {
    "name": "ipython",
    "version": 3
   },
   "file_extension": ".py",
   "mimetype": "text/x-python",
   "name": "python",
   "nbconvert_exporter": "python",
   "pygments_lexer": "ipython3",
   "version": "3.9.6"
  }
 },
 "nbformat": 4,
 "nbformat_minor": 2
}
